{
 "cells": [
  {
   "cell_type": "markdown",
   "metadata": {},
   "source": [
    "# Music genre classification"
   ]
  },
  {
   "cell_type": "markdown",
   "metadata": {},
   "source": [
    "Este Jupyter notebook tem como objetivo apresentar a inteligência desenvolvida para realizar a predição do gênero musical a partir de sua letra, tendo como referência um _dataset_ disponibilizado com amostras dos seguintes gêneros:\n",
    "- Bossa Nova\n",
    "- Funk\n",
    "- Gospel\n",
    "- Sertanejo\n",
    "\n",
    "Sendo assim, o alvo da predição será um dos gêneros acima."
   ]
  },
  {
   "cell_type": "markdown",
   "metadata": {},
   "source": [
    "## EDA (_Exploratory data analysis_)"
   ]
  },
  {
   "cell_type": "markdown",
   "metadata": {},
   "source": [
    "### Carregando os dados"
   ]
  },
  {
   "cell_type": "markdown",
   "metadata": {},
   "source": [
    "Os arquivos estão separados em 4 arquivos distintos, onde cada arquivo contém letras de um mesmo gênero. A seguir, os dados serão carregados para um `Pandas Dataframe`."
   ]
  },
  {
   "cell_type": "code",
   "execution_count": 1,
   "metadata": {
    "collapsed": true
   },
   "outputs": [],
   "source": [
    "import pandas as pd\n",
    "import os"
   ]
  },
  {
   "cell_type": "code",
   "execution_count": 2,
   "metadata": {
    "collapsed": true
   },
   "outputs": [],
   "source": [
    "DATA_DIR = \"../data/lyrics/\"\n",
    "FILE_BASE = \"{}.csv\""
   ]
  },
  {
   "cell_type": "code",
   "execution_count": 3,
   "metadata": {
    "collapsed": true
   },
   "outputs": [],
   "source": [
    "genres = [\"bossa_nova\", \"funk\", \"gospel\", \"sertanejo\"]"
   ]
  },
  {
   "cell_type": "markdown",
   "metadata": {},
   "source": [
    "Com a operação abaixo, os dados serão carregados e um rótulo será adicionado a eles, o qual será usad futuramente como _target_ do _Machine Learning_ a ser aplicado."
   ]
  },
  {
   "cell_type": "code",
   "execution_count": 4,
   "metadata": {
    "collapsed": true
   },
   "outputs": [],
   "source": [
    "def load_lyrics(name):\n",
    "    df = pd.read_csv(os.path.join(DATA_DIR, FILE_BASE.format(name)), encoding='utf-8')\n",
    "    df[\"genre\"] = name\n",
    "    return df"
   ]
  },
  {
   "cell_type": "code",
   "execution_count": 5,
   "metadata": {
    "collapsed": false
   },
   "outputs": [],
   "source": [
    "genres_dfs = []\n",
    "for genre in genres:\n",
    "    genres_dfs.append(load_lyrics(genre))"
   ]
  },
  {
   "cell_type": "code",
   "execution_count": 6,
   "metadata": {
    "collapsed": false
   },
   "outputs": [],
   "source": [
    "df = pd.concat(genres_dfs)"
   ]
  },
  {
   "cell_type": "code",
   "execution_count": 7,
   "metadata": {
    "collapsed": false
   },
   "outputs": [
    {
     "data": {
      "text/html": [
       "<div>\n",
       "<table border=\"1\" class=\"dataframe\">\n",
       "  <thead>\n",
       "    <tr style=\"text-align: right;\">\n",
       "      <th></th>\n",
       "      <th>lyric</th>\n",
       "      <th>genre</th>\n",
       "    </tr>\n",
       "  </thead>\n",
       "  <tbody>\n",
       "    <tr>\n",
       "      <th>0</th>\n",
       "      <td>\\nEu sei que vou te amar\\nPor toda a minha vi...</td>\n",
       "      <td>bossa_nova</td>\n",
       "    </tr>\n",
       "    <tr>\n",
       "      <th>1</th>\n",
       "      <td>\\nOlha que coisa mais linda\\nMais cheia de gr...</td>\n",
       "      <td>bossa_nova</td>\n",
       "    </tr>\n",
       "    <tr>\n",
       "      <th>2</th>\n",
       "      <td>\\nEra uma casa\\nMuito engraçada\\nNão tinha te...</td>\n",
       "      <td>bossa_nova</td>\n",
       "    </tr>\n",
       "    <tr>\n",
       "      <th>3</th>\n",
       "      <td>\\nDe tudo, ao meu amor serei atento antes\\nE ...</td>\n",
       "      <td>bossa_nova</td>\n",
       "    </tr>\n",
       "    <tr>\n",
       "      <th>4</th>\n",
       "      <td>\\nQuando a luz dos olhos meus\\nE a luz dos ol...</td>\n",
       "      <td>bossa_nova</td>\n",
       "    </tr>\n",
       "  </tbody>\n",
       "</table>\n",
       "</div>"
      ],
      "text/plain": [
       "                                               lyric       genre\n",
       "0   \\nEu sei que vou te amar\\nPor toda a minha vi...  bossa_nova\n",
       "1   \\nOlha que coisa mais linda\\nMais cheia de gr...  bossa_nova\n",
       "2   \\nEra uma casa\\nMuito engraçada\\nNão tinha te...  bossa_nova\n",
       "3   \\nDe tudo, ao meu amor serei atento antes\\nE ...  bossa_nova\n",
       "4   \\nQuando a luz dos olhos meus\\nE a luz dos ol...  bossa_nova"
      ]
     },
     "execution_count": 7,
     "metadata": {},
     "output_type": "execute_result"
    }
   ],
   "source": [
    "df.head()"
   ]
  },
  {
   "cell_type": "code",
   "execution_count": 8,
   "metadata": {
    "collapsed": false
   },
   "outputs": [
    {
     "data": {
      "text/plain": [
       "(3200, 2)"
      ]
     },
     "execution_count": 8,
     "metadata": {},
     "output_type": "execute_result"
    }
   ],
   "source": [
    "df.shape"
   ]
  },
  {
   "cell_type": "markdown",
   "metadata": {},
   "source": [
    "Ao final do carregamento, temos 3200 entradas com as propriedades `lyric` (letra propriamente dita) e `genre` (gênero musical originalmente atribuído na fonte de dados)."
   ]
  },
  {
   "cell_type": "markdown",
   "metadata": {},
   "source": [
    "### Data quality"
   ]
  },
  {
   "cell_type": "markdown",
   "metadata": {},
   "source": [
    "#### Remoção de valores nulos ou `None`"
   ]
  },
  {
   "cell_type": "code",
   "execution_count": 9,
   "metadata": {
    "collapsed": false
   },
   "outputs": [],
   "source": [
    "df = df[df[\"lyric\"] != \"None\"].dropna()"
   ]
  },
  {
   "cell_type": "code",
   "execution_count": 10,
   "metadata": {
    "collapsed": false
   },
   "outputs": [
    {
     "data": {
      "text/plain": [
       "3198"
      ]
     },
     "execution_count": 10,
     "metadata": {},
     "output_type": "execute_result"
    }
   ],
   "source": [
    "df.shape[0]"
   ]
  },
  {
   "cell_type": "markdown",
   "metadata": {},
   "source": [
    "Foram encontrados duas entradas com valor `None` para a propriedade `Lyric`, o que deixará o _dataset_ com 3198 entradas."
   ]
  },
  {
   "cell_type": "markdown",
   "metadata": {},
   "source": [
    "#### Detecção de idioma\n",
    "\n",
    "Após uma inspeção visual nos dados, foram identificadas várias entradas nas quais o idioma das letras não eram português. Sendo assim, é necessário medir o impacto disso dentro de todo o domínio de dados."
   ]
  },
  {
   "cell_type": "code",
   "execution_count": 11,
   "metadata": {
    "collapsed": true
   },
   "outputs": [],
   "source": [
    "from langdetect import detect"
   ]
  },
  {
   "cell_type": "code",
   "execution_count": 12,
   "metadata": {
    "collapsed": false
   },
   "outputs": [],
   "source": [
    "df[\"language\"] = df[\"lyric\"].apply(lambda x: detect(x))"
   ]
  },
  {
   "cell_type": "code",
   "execution_count": 13,
   "metadata": {
    "collapsed": false
   },
   "outputs": [],
   "source": [
    "languages = df[\"language\"].unique()"
   ]
  },
  {
   "cell_type": "code",
   "execution_count": 14,
   "metadata": {
    "collapsed": false
   },
   "outputs": [
    {
     "name": "stdout",
     "output_type": "stream",
     "text": [
      "10\n"
     ]
    }
   ],
   "source": [
    "print len(languages)"
   ]
  },
  {
   "cell_type": "code",
   "execution_count": 15,
   "metadata": {
    "collapsed": false
   },
   "outputs": [
    {
     "name": "stdout",
     "output_type": "stream",
     "text": [
      "pt\n",
      "fr\n",
      "en\n",
      "it\n",
      "es\n",
      "sw\n",
      "ca\n",
      "tl\n",
      "lt\n",
      "ro\n"
     ]
    }
   ],
   "source": [
    "for lang in languages: print lang"
   ]
  },
  {
   "cell_type": "code",
   "execution_count": 16,
   "metadata": {
    "collapsed": false
   },
   "outputs": [
    {
     "name": "stdout",
     "output_type": "stream",
     "text": [
      "bossa_nova 10.5\n",
      "funk 0.75\n",
      "gospel 0.877192982456\n",
      "sertanejo 0.0\n"
     ]
    }
   ],
   "source": [
    "from __future__ import division\n",
    "\n",
    "for genre in genres:\n",
    "    print genre, (df[(df[\"genre\"] == genre) & (df[\"language\"] != \"pt\")].shape[0] / df[(df[\"genre\"] == genre)].shape[0]) * 100"
   ]
  },
  {
   "cell_type": "code",
   "execution_count": 17,
   "metadata": {
    "collapsed": false
   },
   "outputs": [
    {
     "name": "stdout",
     "output_type": "stream",
     "text": [
      "General non pt lyric ratio:  3.03314571607\n"
     ]
    }
   ],
   "source": [
    "print \"General non pt lyric ratio: \", (df[df[\"language\"] != \"pt\"].shape[0] / df.shape[0]) * 100"
   ]
  },
  {
   "cell_type": "markdown",
   "metadata": {},
   "source": [
    "As informações acima mostram que 10,5% das letras das músicas de Bossa Nova são de idiomas diferentes do Português (sem avaliar a precisão da metodoliga de tradução). Entretanto, para as outras classes a taxa é de aproximadamente 1%, resultado em uma taxa geral de 3%.\n",
    "\n",
    "Por conta do propósito desta análise e da natureza da inteligência que virá a seguir, que será bastante inerente ao _corpus_ do idioma principal, e por algumas análises posteriores do impacto de uma _feature_ relacionada ao idioma, será considerado daqui adiante apenas as letras com o idioma Português."
   ]
  },
  {
   "cell_type": "markdown",
   "metadata": {},
   "source": [
    "##### Como poderia ser tratada a questão de idioma?\n",
    "\n",
    "Para a questão de idioma, uma vez que é conhecido a base linguística de cada letra de música, uma estratégia seria tratar de maneira dinâmica o processo de tratamento de texto. A seguir será executado um processo dinâmico como exemplo, porém que não será usado na etapa de classificação.\n",
    "\n",
    "Na sequência serão realizados os seguintes processos sobre o domínio de dados:\n",
    "\n",
    "- _Stemming_, onde serão extraídos apenas os radicais que compôem as palavras;\n",
    "- Remoção de _stop words_, palavras como artigos, preposições e conjunções que servem para conectar as palavras principais. Como não será tratada a semântica das letras, não será útil;\n",
    "- Remoção de pontuação."
   ]
  },
  {
   "cell_type": "code",
   "execution_count": 18,
   "metadata": {
    "collapsed": true
   },
   "outputs": [],
   "source": [
    "import nltk\n",
    "import string\n",
    "import re\n",
    "\n",
    "from nltk.tokenize import RegexpTokenizer"
   ]
  },
  {
   "cell_type": "code",
   "execution_count": 19,
   "metadata": {
    "collapsed": false
   },
   "outputs": [
    {
     "name": "stdout",
     "output_type": "stream",
     "text": [
      "[nltk_data] Downloading package rslp to\n",
      "[nltk_data]     /home/wespatrocinio/nltk_data...\n",
      "[nltk_data]   Package rslp is already up-to-date!\n",
      "[nltk_data] Downloading package stopwords to\n",
      "[nltk_data]     /home/wespatrocinio/nltk_data...\n",
      "[nltk_data]   Package stopwords is already up-to-date!\n"
     ]
    },
    {
     "data": {
      "text/plain": [
       "True"
      ]
     },
     "execution_count": 19,
     "metadata": {},
     "output_type": "execute_result"
    }
   ],
   "source": [
    "nltk.download('rslp')\n",
    "nltk.download('stopwords')"
   ]
  },
  {
   "cell_type": "code",
   "execution_count": 20,
   "metadata": {
    "collapsed": false
   },
   "outputs": [],
   "source": [
    "STEM_MAP = {\n",
    "    \"pt\": nltk.stem.RSLPStemmer(),\n",
    "    \"en\": nltk.stem.snowball.EnglishStemmer(),\n",
    "    \"fr\": nltk.stem.snowball.FrenchStemmer(),\n",
    "    \"es\": nltk.stem.snowball.SpanishStemmer(),\n",
    "    \"it\": nltk.stem.snowball.ItalianStemmer()\n",
    "}"
   ]
  },
  {
   "cell_type": "code",
   "execution_count": 21,
   "metadata": {
    "collapsed": true
   },
   "outputs": [],
   "source": [
    "LANGUAGE_MAP = {\n",
    "    \"pt\": \"portuguese\",\n",
    "    \"en\": \"english\",\n",
    "    \"fr\": \"french\",\n",
    "    \"it\": \"italian\",\n",
    "    \"es\": \"spanish\"\n",
    "}"
   ]
  },
  {
   "cell_type": "markdown",
   "metadata": {},
   "source": [
    "O método abaixo trata de maneira automática a seleção de _stemmers_ e _stop words_ de acordo com o idioma da letra."
   ]
  },
  {
   "cell_type": "code",
   "execution_count": 22,
   "metadata": {
    "collapsed": false
   },
   "outputs": [],
   "source": [
    "def tokenizer(row):\n",
    "    lower_case = row[\"lyric\"].lower()\n",
    "    tokenizer = RegexpTokenizer(r'\\w+')\n",
    "    tokens = tokenizer.tokenize(lower_case)\n",
    "    stemmer = STEM_MAP.get(row[\"language\"]) if STEM_MAP.get(row[\"language\"]) else STEM_MAP.get(\"pt\")\n",
    "    stems = [stemmer.stem(t) for t in tokens]\n",
    "    language_full = LANGUAGE_MAP.get(row[\"language\"])\n",
    "    if language_full:\n",
    "        stopwords = nltk.corpus.stopwords.words(language_full)\n",
    "    else:\n",
    "        stopwords = nltk.corpus.stopwords.words(\"portuguese\")\n",
    "    return [token for token in stems if token not in stopwords]"
   ]
  },
  {
   "cell_type": "code",
   "execution_count": 23,
   "metadata": {
    "collapsed": false
   },
   "outputs": [],
   "source": [
    "df[\"tokens\"] = df.apply(lambda row: tokenizer(row), axis=1)"
   ]
  },
  {
   "cell_type": "code",
   "execution_count": 24,
   "metadata": {
    "collapsed": false
   },
   "outputs": [
    {
     "data": {
      "text/html": [
       "<div>\n",
       "<table border=\"1\" class=\"dataframe\">\n",
       "  <thead>\n",
       "    <tr style=\"text-align: right;\">\n",
       "      <th></th>\n",
       "      <th>lyric</th>\n",
       "      <th>genre</th>\n",
       "      <th>language</th>\n",
       "      <th>tokens</th>\n",
       "    </tr>\n",
       "  </thead>\n",
       "  <tbody>\n",
       "    <tr>\n",
       "      <th>0</th>\n",
       "      <td>\\nEu sei que vou te amar\\nPor toda a minha vi...</td>\n",
       "      <td>bossa_nova</td>\n",
       "      <td>pt</td>\n",
       "      <td>[sei, vou, am, tod, minh, vid, vou, am, cad, d...</td>\n",
       "    </tr>\n",
       "    <tr>\n",
       "      <th>1</th>\n",
       "      <td>\\nOlha que coisa mais linda\\nMais cheia de gr...</td>\n",
       "      <td>bossa_nova</td>\n",
       "      <td>pt</td>\n",
       "      <td>[olh, cois, lind, chei, graç, é, menin, vem, p...</td>\n",
       "    </tr>\n",
       "    <tr>\n",
       "      <th>2</th>\n",
       "      <td>\\nEra uma casa\\nMuito engraçada\\nNão tinha te...</td>\n",
       "      <td>bossa_nova</td>\n",
       "      <td>pt</td>\n",
       "      <td>[cas, muit, engraç, tinh, tet, tinh, nad, ning...</td>\n",
       "    </tr>\n",
       "    <tr>\n",
       "      <th>3</th>\n",
       "      <td>\\nDe tudo, ao meu amor serei atento antes\\nE ...</td>\n",
       "      <td>bossa_nova</td>\n",
       "      <td>pt</td>\n",
       "      <td>[tud, am, ser, atent, ant, tal, zel, sempr, ta...</td>\n",
       "    </tr>\n",
       "    <tr>\n",
       "      <th>4</th>\n",
       "      <td>\\nQuando a luz dos olhos meus\\nE a luz dos ol...</td>\n",
       "      <td>bossa_nova</td>\n",
       "      <td>pt</td>\n",
       "      <td>[qu, luz, olh, luz, olh, resolv, encontr, ai, ...</td>\n",
       "    </tr>\n",
       "  </tbody>\n",
       "</table>\n",
       "</div>"
      ],
      "text/plain": [
       "                                               lyric       genre language  \\\n",
       "0   \\nEu sei que vou te amar\\nPor toda a minha vi...  bossa_nova       pt   \n",
       "1   \\nOlha que coisa mais linda\\nMais cheia de gr...  bossa_nova       pt   \n",
       "2   \\nEra uma casa\\nMuito engraçada\\nNão tinha te...  bossa_nova       pt   \n",
       "3   \\nDe tudo, ao meu amor serei atento antes\\nE ...  bossa_nova       pt   \n",
       "4   \\nQuando a luz dos olhos meus\\nE a luz dos ol...  bossa_nova       pt   \n",
       "\n",
       "                                              tokens  \n",
       "0  [sei, vou, am, tod, minh, vid, vou, am, cad, d...  \n",
       "1  [olh, cois, lind, chei, graç, é, menin, vem, p...  \n",
       "2  [cas, muit, engraç, tinh, tet, tinh, nad, ning...  \n",
       "3  [tud, am, ser, atent, ant, tal, zel, sempr, ta...  \n",
       "4  [qu, luz, olh, luz, olh, resolv, encontr, ai, ...  "
      ]
     },
     "execution_count": 24,
     "metadata": {},
     "output_type": "execute_result"
    }
   ],
   "source": [
    "df.head()"
   ]
  },
  {
   "cell_type": "markdown",
   "metadata": {},
   "source": [
    "#### Remoção de _outliers_\n",
    "\n",
    "Letras de música possuem diversos tamanhos, seja pela dimensão temporal da música quanto pela estrtura da composição. Por conta disso, será realizada uma breve análise com relação ao tamanho da letra com base nos _tokens_ obtidos acima, partir de duas métricas:\n",
    "- `num_tokens`, ou seja, a quantidade total de _tokens_ de uma letra;\n",
    "- `num_distinct_tokens`, ou seja, a quantidade de _tokens_ distintos (sem repetição);"
   ]
  },
  {
   "cell_type": "code",
   "execution_count": 25,
   "metadata": {
    "collapsed": false
   },
   "outputs": [],
   "source": [
    "df[\"num_tokens\"] = df[\"tokens\"].apply(lambda x: len(x))"
   ]
  },
  {
   "cell_type": "code",
   "execution_count": 26,
   "metadata": {
    "collapsed": false
   },
   "outputs": [],
   "source": [
    "df[\"num_distinct_tokens\"] = df[\"tokens\"].apply(lambda x: len(set(x)))"
   ]
  },
  {
   "cell_type": "markdown",
   "metadata": {},
   "source": [
    "Alguns gráficos serão plotados para melhor visualização do cenário."
   ]
  },
  {
   "cell_type": "code",
   "execution_count": 28,
   "metadata": {
    "collapsed": false
   },
   "outputs": [],
   "source": [
    "%matplotlib inline\n",
    "\n",
    "import matplotlib.pyplot as plt\n",
    "import numpy as np\n",
    "\n",
    "plt.style.use('ggplot')"
   ]
  },
  {
   "cell_type": "code",
   "execution_count": 33,
   "metadata": {
    "collapsed": false
   },
   "outputs": [
    {
     "data": {
      "text/plain": [
       "<matplotlib.axes._subplots.AxesSubplot at 0x7f2c3a320110>"
      ]
     },
     "execution_count": 33,
     "metadata": {},
     "output_type": "execute_result"
    },
    {
     "data": {
      "image/png": "[encoded data removed]",
      "text/plain": [
       "<matplotlib.figure.Figure at 0x7f2c3a3a1ed0>"
      ]
     },
     "metadata": {},
     "output_type": "display_data"
    }
   ],
   "source": [
    "df[\"num_tokens\"].plot.hist(figsize=(12,10), bins=100)"
   ]
  },
  {
   "cell_type": "markdown",
   "metadata": {},
   "source": [
    "É possível observar uma cauda bastante longa no limite superior de `num_tokens`. Por conta disso, será considerado o percentil 99% do _dataset_, para evitar problemas na classificação como o _overfitting_."
   ]
  },
  {
   "cell_type": "code",
   "execution_count": 38,
   "metadata": {
    "collapsed": false
   },
   "outputs": [
    {
     "data": {
      "text/plain": [
       "<matplotlib.axes._subplots.AxesSubplot at 0x7f2c399b12d0>"
      ]
     },
     "execution_count": 38,
     "metadata": {},
     "output_type": "execute_result"
    },
    {
     "data": {
      "image/png": "[encoded data removed]",
      "text/plain": [
       "<matplotlib.figure.Figure at 0x7f2c3a3f9390>"
      ]
     },
     "metadata": {},
     "output_type": "display_data"
    }
   ],
   "source": [
    "df[df[\"num_tokens\"] <= df[\"num_tokens\"].quantile(0.99)][\"num_tokens\"].plot.hist(figsize=(12,10), bins=100)"
   ]
  },
  {
   "cell_type": "code",
   "execution_count": 40,
   "metadata": {
    "collapsed": true
   },
   "outputs": [],
   "source": [
    "NUM_TOKENS_THRESHOLD = df[\"num_tokens\"].quantile(0.99)"
   ]
  },
  {
   "cell_type": "markdown",
   "metadata": {},
   "source": [
    "O valor abaixo será usado como linha de corte para o _dataset_ de treinamento / validação."
   ]
  },
  {
   "cell_type": "code",
   "execution_count": 41,
   "metadata": {
    "collapsed": false
   },
   "outputs": [
    {
     "name": "stdout",
     "output_type": "stream",
     "text": [
      "365.0\n"
     ]
    }
   ],
   "source": [
    "print NUM_TOKENS_THRESHOLD"
   ]
  },
  {
   "cell_type": "markdown",
   "metadata": {},
   "source": [
    "O processo realizado para `num_tokens` será aplicado em `num_distinct_tokens`."
   ]
  },
  {
   "cell_type": "code",
   "execution_count": 42,
   "metadata": {
    "collapsed": false
   },
   "outputs": [
    {
     "data": {
      "text/plain": [
       "<matplotlib.axes._subplots.AxesSubplot at 0x7f2c3943f990>"
      ]
     },
     "execution_count": 42,
     "metadata": {},
     "output_type": "execute_result"
    },
    {
     "data": {
      "image/png": "[encoded data removed]",
      "text/plain": [
       "<matplotlib.figure.Figure at 0x7f2c39690910>"
      ]
     },
     "metadata": {},
     "output_type": "display_data"
    }
   ],
   "source": [
    "df[\"num_distinct_tokens\"].plot.hist(figsize=(12,10), bins=100)"
   ]
  },
  {
   "cell_type": "code",
   "execution_count": 43,
   "metadata": {
    "collapsed": false
   },
   "outputs": [
    {
     "data": {
      "text/plain": [
       "<matplotlib.axes._subplots.AxesSubplot at 0x7f2c3913b1d0>"
      ]
     },
     "execution_count": 43,
     "metadata": {},
     "output_type": "execute_result"
    },
    {
     "data": {
      "image/png": "[encoded data removed]",
      "text/plain": [
       "<matplotlib.figure.Figure at 0x7f2c390ed110>"
      ]
     },
     "metadata": {},
     "output_type": "display_data"
    }
   ],
   "source": [
    "df[df[\"num_distinct_tokens\"] <= df[\"num_distinct_tokens\"].quantile(0.99)][\"num_distinct_tokens\"].plot.hist(figsize=(12,10), bins=100)"
   ]
  },
  {
   "cell_type": "code",
   "execution_count": 64,
   "metadata": {
    "collapsed": false
   },
   "outputs": [],
   "source": [
    "ratios = []\n",
    "for genre in genres:\n",
    "    ratios.append([\"num_tokens\", \"mean\", genre, df[df[\"genre\"] == genre][\"num_tokens\"].mean()])\n",
    "    ratios.append([\"num_distinct_tokens\", \"mean\", genre, df[df[\"genre\"] == genre][\"num_distinct_tokens\"].mean()])\n",
    "    ratios.append([\n",
    "        \"distinct / all\",\n",
    "        \"ratio\",\n",
    "        genre,\n",
    "        (df[df[\"genre\"] == genre][\"num_distinct_tokens\"].mean() / df[df[\"genre\"] == genre][\"num_tokens\"].mean()) * 100\n",
    "    ])"
   ]
  },
  {
   "cell_type": "code",
   "execution_count": 62,
   "metadata": {
    "collapsed": true
   },
   "outputs": [],
   "source": [
    "df_ratios = pd.DataFrame(ratios, columns=[\"metric\", \"stat\", \"genre\", \"value\"])"
   ]
  },
  {
   "cell_type": "code",
   "execution_count": 63,
   "metadata": {
    "collapsed": false
   },
   "outputs": [
    {
     "data": {
      "text/html": [
       "<div>\n",
       "<table border=\"1\" class=\"dataframe\">\n",
       "  <thead>\n",
       "    <tr style=\"text-align: right;\">\n",
       "      <th></th>\n",
       "      <th>metric</th>\n",
       "      <th>stat</th>\n",
       "      <th>genre</th>\n",
       "      <th>value</th>\n",
       "    </tr>\n",
       "  </thead>\n",
       "  <tbody>\n",
       "    <tr>\n",
       "      <th>0</th>\n",
       "      <td>num_tokens</td>\n",
       "      <td>mean</td>\n",
       "      <td>bossa_nova</td>\n",
       "      <td>85.252500</td>\n",
       "    </tr>\n",
       "    <tr>\n",
       "      <th>1</th>\n",
       "      <td>num_distinct_tokens</td>\n",
       "      <td>mean</td>\n",
       "      <td>bossa_nova</td>\n",
       "      <td>50.116250</td>\n",
       "    </tr>\n",
       "    <tr>\n",
       "      <th>2</th>\n",
       "      <td>distinct / all</td>\n",
       "      <td>ratio</td>\n",
       "      <td>bossa_nova</td>\n",
       "      <td>58.785666</td>\n",
       "    </tr>\n",
       "    <tr>\n",
       "      <th>3</th>\n",
       "      <td>num_tokens</td>\n",
       "      <td>mean</td>\n",
       "      <td>funk</td>\n",
       "      <td>157.728750</td>\n",
       "    </tr>\n",
       "    <tr>\n",
       "      <th>4</th>\n",
       "      <td>num_distinct_tokens</td>\n",
       "      <td>mean</td>\n",
       "      <td>funk</td>\n",
       "      <td>64.511250</td>\n",
       "    </tr>\n",
       "    <tr>\n",
       "      <th>5</th>\n",
       "      <td>distinct / all</td>\n",
       "      <td>ratio</td>\n",
       "      <td>funk</td>\n",
       "      <td>40.900121</td>\n",
       "    </tr>\n",
       "    <tr>\n",
       "      <th>6</th>\n",
       "      <td>num_tokens</td>\n",
       "      <td>mean</td>\n",
       "      <td>gospel</td>\n",
       "      <td>108.411028</td>\n",
       "    </tr>\n",
       "    <tr>\n",
       "      <th>7</th>\n",
       "      <td>num_distinct_tokens</td>\n",
       "      <td>mean</td>\n",
       "      <td>gospel</td>\n",
       "      <td>50.957393</td>\n",
       "    </tr>\n",
       "    <tr>\n",
       "      <th>8</th>\n",
       "      <td>distinct / all</td>\n",
       "      <td>ratio</td>\n",
       "      <td>gospel</td>\n",
       "      <td>47.003884</td>\n",
       "    </tr>\n",
       "    <tr>\n",
       "      <th>9</th>\n",
       "      <td>num_tokens</td>\n",
       "      <td>mean</td>\n",
       "      <td>sertanejo</td>\n",
       "      <td>106.092500</td>\n",
       "    </tr>\n",
       "    <tr>\n",
       "      <th>10</th>\n",
       "      <td>num_distinct_tokens</td>\n",
       "      <td>mean</td>\n",
       "      <td>sertanejo</td>\n",
       "      <td>54.182500</td>\n",
       "    </tr>\n",
       "    <tr>\n",
       "      <th>11</th>\n",
       "      <td>distinct / all</td>\n",
       "      <td>ratio</td>\n",
       "      <td>sertanejo</td>\n",
       "      <td>51.070999</td>\n",
       "    </tr>\n",
       "  </tbody>\n",
       "</table>\n",
       "</div>"
      ],
      "text/plain": [
       "                 metric   stat       genre       value\n",
       "0            num_tokens   mean  bossa_nova   85.252500\n",
       "1   num_distinct_tokens   mean  bossa_nova   50.116250\n",
       "2        distinct / all  ratio  bossa_nova   58.785666\n",
       "3            num_tokens   mean        funk  157.728750\n",
       "4   num_distinct_tokens   mean        funk   64.511250\n",
       "5        distinct / all  ratio        funk   40.900121\n",
       "6            num_tokens   mean      gospel  108.411028\n",
       "7   num_distinct_tokens   mean      gospel   50.957393\n",
       "8        distinct / all  ratio      gospel   47.003884\n",
       "9            num_tokens   mean   sertanejo  106.092500\n",
       "10  num_distinct_tokens   mean   sertanejo   54.182500\n",
       "11       distinct / all  ratio   sertanejo   51.070999"
      ]
     },
     "execution_count": 63,
     "metadata": {},
     "output_type": "execute_result"
    }
   ],
   "source": [
    "df_ratios"
   ]
  },
  {
   "cell_type": "markdown",
   "metadata": {},
   "source": [
    "Como podemos ver na tabela acima, a taxa de _tokens_ duplicados (medida pela razão `distinct / all`) varia bastante entre os gêneros. Por exemplo, `bossa_nova` tem ~59% de tokens únicos enquanto `funk` tem ~41%, ou seja, há uma repetição de palavras no gênero `funk` consideravelmente maior. Esta informação nos será útil mais abaixo, para a escolha da estratégia de _feature engineering_ a ser usada."
   ]
  },
  {
   "cell_type": "markdown",
   "metadata": {},
   "source": [
    "#### _Dataset_ que será usado na fase de _Machine Learning_\n",
    "\n",
    "No _dataset_ final, filtraremos os _outliers_ de quantidade de tokens (mantendo percentil 98%) e também as letras que não estão em português."
   ]
  },
  {
   "cell_type": "code",
   "execution_count": 65,
   "metadata": {
    "collapsed": false
   },
   "outputs": [],
   "source": [
    "df_clean = df[(df[\"num_tokens\"] <= NUM_TOKENS_THRESHOLD) & (df[\"language\"] == \"pt\")]"
   ]
  },
  {
   "cell_type": "code",
   "execution_count": 66,
   "metadata": {
    "collapsed": false
   },
   "outputs": [
    {
     "data": {
      "text/plain": [
       "3070"
      ]
     },
     "execution_count": 66,
     "metadata": {},
     "output_type": "execute_result"
    }
   ],
   "source": [
    "df_clean.shape[0]"
   ]
  },
  {
   "cell_type": "code",
   "execution_count": 68,
   "metadata": {
    "collapsed": false
   },
   "outputs": [
    {
     "data": {
      "text/plain": [
       "128"
      ]
     },
     "execution_count": 68,
     "metadata": {},
     "output_type": "execute_result"
    }
   ],
   "source": [
    "df.shape[0] - df_clean.shape[0]"
   ]
  },
  {
   "cell_type": "code",
   "execution_count": 69,
   "metadata": {
    "collapsed": false
   },
   "outputs": [
    {
     "name": "stdout",
     "output_type": "stream",
     "text": [
      "4.00250156348\n"
     ]
    }
   ],
   "source": [
    "print ((df.shape[0] - df_clean.shape[0]) / df.shape[0]) * 100"
   ]
  },
  {
   "cell_type": "markdown",
   "metadata": {},
   "source": [
    "Foram descartadas 128 entradas (4%), a partir da limpeza de valores nulos que já havia sido feita."
   ]
  },
  {
   "cell_type": "markdown",
   "metadata": {},
   "source": [
    "## Classificação"
   ]
  },
  {
   "cell_type": "markdown",
   "metadata": {},
   "source": [
    "O problema estabelecido é a previsão do gênero musical a partir de uma letra, com base em nosso domínio de dados _grounfd truth_. Sendo assim, temos um problema claro e explítico de uma classificação multi-classes (4 no total).\n",
    "\n",
    "Para resolver tal problema, temos então as seguintes etapas:\n",
    "- Engenharia de _features_, onde representaremos os dados brutos em _features_ sobre as quais o classificador realizará o trabalho de aprendizado e classificação propriamente dita;\n",
    "- Classificação propriamente dita, etapa onde um ou mais algoritimos de _Machine Learning_ serão aplicados para tentar realizar a melhor predição possível;\n",
    "\n",
    "Lembrando que a métrica escolhida para a avaliação do classificador será a Acurácia."
   ]
  },
  {
   "cell_type": "markdown",
   "metadata": {},
   "source": [
    "### Engenharia de features"
   ]
  },
  {
   "cell_type": "markdown",
   "metadata": {},
   "source": [
    "Agora que temos uma visão melhor dos dados e do problema a ser resolvido, podemos partir para a etapa onde extrairemos os atributos (_features_) que serão utilizadas para o treinamento e validação dos algoritmos de _Machine Learning_.\n",
    "\n",
    "Reforçando aqui que:\n",
    "- Fizemos o _drop_ de valores nulos;\n",
    "- Removemos _outliers_ com relação à quantidade de _tokens_ em uma mesma música (pegamos o percentil 99);\n",
    "- Desprezamos as letras com idiomas diferentes de Português. Mesmo que o grupo `bossa_nova` tivesse uma taxa consideravelmente maior que os demais, tal taxa não era tão relevante e poderia nos levar a uma condição de _overfit_, uma vez que não temos fatos que mostrem que a taxa de músicas em outras línguas, como um todo, tem a mesma distribuição que o _dataset_ de treinamento;"
   ]
  },
  {
   "cell_type": "markdown",
   "metadata": {},
   "source": [
    "#### TF-IDF\n",
    "\n",
    "Para este problema em específico, a estratégia escolhida foi o uso do índice de TF-IDF (_Term frequency_-_Inverse document frequecy_). Esta estratégia foi escolhida pelos seguintes motivos:\n",
    "- Como o objetivo é classificar uma letra de música em uma categoria, a combinação de um conjunto de tokens em um mesmo documento parece ser o suficiente para classificar, ao invés de extrair tópicos ou semântica deste documento (o que poderia nos levar a outra classe de algoritmos como LDA, _word2vec_, etc);\n",
    "- O EDA realizado acima mostrou que a frequência/taxa de repetição de _tokens_ entre os _genres_ podem diferir bastante. Sendo assim, o _term frequency_ (TF) tende a ser relevante. Casos estivéssemos trabalhando com documentos pequenos ou sem relevância de repetição de _tokens_, apenas o IDF seria suficiente;\n",
    "- Pela praticidade em usar as ferramentas prontas do Scikit-learn ;)"
   ]
  },
  {
   "cell_type": "markdown",
   "metadata": {},
   "source": [
    "Dessa forma, teremos como nosso _dataset_ de dados para a etapa de classificação:\n",
    "- _Features_ (X): as letras de música, que posteriormente serão transformadas em vetores de TF-IDF;\n",
    "- _Target_ (y): as categorias de cada música, obtidas do _dataset_ usado como _ground truth_;"
   ]
  },
  {
   "cell_type": "code",
   "execution_count": 89,
   "metadata": {
    "collapsed": false
   },
   "outputs": [],
   "source": [
    "X = df_clean[\"lyric\"]\n",
    "y = df_clean[\"genre\"]"
   ]
  },
  {
   "cell_type": "markdown",
   "metadata": {},
   "source": [
    "Vamos separar o _dataset_ em duas partes: uma para treinamento do algoritmo e outra para validação da performance do mesmo (30% dos dados)."
   ]
  },
  {
   "cell_type": "code",
   "execution_count": 90,
   "metadata": {
    "collapsed": false
   },
   "outputs": [],
   "source": [
    "from sklearn.cross_validation import train_test_split"
   ]
  },
  {
   "cell_type": "code",
   "execution_count": 91,
   "metadata": {
    "collapsed": true
   },
   "outputs": [],
   "source": [
    "X_train, X_test, y_train, y_test = train_test_split(X, y, test_size=0.3, random_state=42)"
   ]
  },
  {
   "cell_type": "code",
   "execution_count": 92,
   "metadata": {
    "collapsed": true
   },
   "outputs": [],
   "source": [
    "X_train.to_csv(\"../data/features/X_train.csv\", sep=\";\", encoding='utf-8')\n",
    "y_train.to_csv(\"../data/features/y_train.csv\", sep=\";\", encoding='utf-8')\n",
    "X_test.to_csv(\"../data/features/X_test.csv\", sep=\";\", encoding='utf-8')\n",
    "y_test.to_csv(\"../data/features/y_test.csv\", sep=\";\", encoding='utf-8')"
   ]
  },
  {
   "cell_type": "markdown",
   "metadata": {},
   "source": [
    "A partir de agora vamos transformar as nossas _features_ brutas em seu formato final.\n",
    "\n",
    "Vamos então extrair os _tokens_ dos textos brutos realizando os seguintes processos sobre os dados:\n",
    "- _Stemming_ específico para Português;\n",
    "- Todas as letras em minúsculo;\n",
    "- Remoção de pontuação;\n",
    "- Remoção de _stop words_;"
   ]
  },
  {
   "cell_type": "code",
   "execution_count": 78,
   "metadata": {
    "collapsed": true
   },
   "outputs": [],
   "source": [
    "def text_tokenizer(text):\n",
    "    stemmer = nltk.stem.RSLPStemmer()\n",
    "    lower_case = text.lower()\n",
    "    tokenizer = RegexpTokenizer(r'\\w+')\n",
    "    tokens = tokenizer.tokenize(lower_case)\n",
    "    return [stemmer.stem(t) for t in tokens]"
   ]
  },
  {
   "cell_type": "markdown",
   "metadata": {},
   "source": [
    "Criaremos um espaço vetorial onde cada token único de nosso _bag of words_ é uma componente, e para cada amostra criaremos a representação neste espaço, ou seja, o coeficiente de cada componente será o _score_ de TF-IDF do token naquele documento."
   ]
  },
  {
   "cell_type": "code",
   "execution_count": 79,
   "metadata": {
    "collapsed": false
   },
   "outputs": [],
   "source": [
    "from sklearn.feature_extraction.text import TfidfVectorizer\n",
    "\n",
    "tfidf = TfidfVectorizer(\n",
    "            encoding='utf-8',\n",
    "            decode_error='replace',\n",
    "            strip_accents='unicode',\n",
    "            analyzer='word',\n",
    "            binary=False,\n",
    "            stop_words=nltk.corpus.stopwords.words(\"portuguese\"),\n",
    "            tokenizer=text_tokenizer\n",
    "    )"
   ]
  },
  {
   "cell_type": "code",
   "execution_count": 80,
   "metadata": {
    "collapsed": false
   },
   "outputs": [
    {
     "data": {
      "text/plain": [
       "TfidfVectorizer(analyzer='word', binary=False, decode_error='replace',\n",
       "        dtype=<type 'numpy.int64'>, encoding='utf-8', input=u'content',\n",
       "        lowercase=True, max_df=1.0, max_features=None, min_df=1,\n",
       "        ngram_range=(1, 1), norm=u'l2', preprocessor=None, smooth_idf=True,\n",
       "        stop_words=[u'de', u'a', u'o', u'que', u'e', u'do', u'da', u'em', u'um', u'para', u'com', u'n\\xe3o', u'uma', u'os', u'no', u'se', u'na', u'por', u'mais', u'as', u'dos', u'como', u'mas', u'ao', u'ele', u'das', u'\\xe0', u'seu', u'sua', u'ou', u'quando', u'muito', u'nos', u'j\\xe1', u'eu', u'tamb\\xe9m',...os', u'tiverem', u'terei', u'ter\\xe1', u'teremos', u'ter\\xe3o', u'teria', u'ter\\xedamos', u'teriam'],\n",
       "        strip_accents='unicode', sublinear_tf=False,\n",
       "        token_pattern=u'(?u)\\\\b\\\\w\\\\w+\\\\b',\n",
       "        tokenizer=<function text_tokenizer at 0x7f2c38cd87d0>,\n",
       "        use_idf=True, vocabulary=None)"
      ]
     },
     "execution_count": 80,
     "metadata": {},
     "output_type": "execute_result"
    }
   ],
   "source": [
    "tfidf.fit(X_train)"
   ]
  },
  {
   "cell_type": "markdown",
   "metadata": {},
   "source": [
    "Vamos salvar este _vectorizer_ pois precisaremos dele na construção da API que fará a classificação de gênero musical. "
   ]
  },
  {
   "cell_type": "code",
   "execution_count": 83,
   "metadata": {
    "collapsed": false
   },
   "outputs": [],
   "source": [
    "import pickle\n",
    "\n",
    "with open('../model/vectorizer.pkl', 'wb') as f:\n",
    "    pickle.dump(tfidf, f)"
   ]
  },
  {
   "cell_type": "markdown",
   "metadata": {},
   "source": [
    "Agora transformaremos nossa _feature_ bruta no vetor de TF-IDF"
   ]
  },
  {
   "cell_type": "code",
   "execution_count": 84,
   "metadata": {
    "collapsed": false
   },
   "outputs": [],
   "source": [
    "X_train = pd.DataFrame(tfidf.transform(X_train).toarray())"
   ]
  },
  {
   "cell_type": "code",
   "execution_count": 85,
   "metadata": {
    "collapsed": false
   },
   "outputs": [
    {
     "data": {
      "text/html": [
       "<div>\n",
       "<table border=\"1\" class=\"dataframe\">\n",
       "  <thead>\n",
       "    <tr style=\"text-align: right;\">\n",
       "      <th></th>\n",
       "      <th>0</th>\n",
       "      <th>1</th>\n",
       "      <th>2</th>\n",
       "      <th>3</th>\n",
       "      <th>4</th>\n",
       "      <th>5</th>\n",
       "      <th>6</th>\n",
       "      <th>7</th>\n",
       "      <th>8</th>\n",
       "      <th>9</th>\n",
       "      <th>...</th>\n",
       "      <th>7961</th>\n",
       "      <th>7962</th>\n",
       "      <th>7963</th>\n",
       "      <th>7964</th>\n",
       "      <th>7965</th>\n",
       "      <th>7966</th>\n",
       "      <th>7967</th>\n",
       "      <th>7968</th>\n",
       "      <th>7969</th>\n",
       "      <th>7970</th>\n",
       "    </tr>\n",
       "  </thead>\n",
       "  <tbody>\n",
       "    <tr>\n",
       "      <th>0</th>\n",
       "      <td>0.0</td>\n",
       "      <td>0.0</td>\n",
       "      <td>0.0</td>\n",
       "      <td>0.0</td>\n",
       "      <td>0.0</td>\n",
       "      <td>0.0</td>\n",
       "      <td>0.0</td>\n",
       "      <td>0.0</td>\n",
       "      <td>0.0</td>\n",
       "      <td>0.0</td>\n",
       "      <td>...</td>\n",
       "      <td>0.0</td>\n",
       "      <td>0.0</td>\n",
       "      <td>0.0</td>\n",
       "      <td>0.0</td>\n",
       "      <td>0.0</td>\n",
       "      <td>0.0</td>\n",
       "      <td>0.0</td>\n",
       "      <td>0.0</td>\n",
       "      <td>0.0</td>\n",
       "      <td>0.0</td>\n",
       "    </tr>\n",
       "    <tr>\n",
       "      <th>1</th>\n",
       "      <td>0.0</td>\n",
       "      <td>0.0</td>\n",
       "      <td>0.0</td>\n",
       "      <td>0.0</td>\n",
       "      <td>0.0</td>\n",
       "      <td>0.0</td>\n",
       "      <td>0.0</td>\n",
       "      <td>0.0</td>\n",
       "      <td>0.0</td>\n",
       "      <td>0.0</td>\n",
       "      <td>...</td>\n",
       "      <td>0.0</td>\n",
       "      <td>0.0</td>\n",
       "      <td>0.0</td>\n",
       "      <td>0.0</td>\n",
       "      <td>0.0</td>\n",
       "      <td>0.0</td>\n",
       "      <td>0.0</td>\n",
       "      <td>0.0</td>\n",
       "      <td>0.0</td>\n",
       "      <td>0.0</td>\n",
       "    </tr>\n",
       "    <tr>\n",
       "      <th>2</th>\n",
       "      <td>0.0</td>\n",
       "      <td>0.0</td>\n",
       "      <td>0.0</td>\n",
       "      <td>0.0</td>\n",
       "      <td>0.0</td>\n",
       "      <td>0.0</td>\n",
       "      <td>0.0</td>\n",
       "      <td>0.0</td>\n",
       "      <td>0.0</td>\n",
       "      <td>0.0</td>\n",
       "      <td>...</td>\n",
       "      <td>0.0</td>\n",
       "      <td>0.0</td>\n",
       "      <td>0.0</td>\n",
       "      <td>0.0</td>\n",
       "      <td>0.0</td>\n",
       "      <td>0.0</td>\n",
       "      <td>0.0</td>\n",
       "      <td>0.0</td>\n",
       "      <td>0.0</td>\n",
       "      <td>0.0</td>\n",
       "    </tr>\n",
       "    <tr>\n",
       "      <th>3</th>\n",
       "      <td>0.0</td>\n",
       "      <td>0.0</td>\n",
       "      <td>0.0</td>\n",
       "      <td>0.0</td>\n",
       "      <td>0.0</td>\n",
       "      <td>0.0</td>\n",
       "      <td>0.0</td>\n",
       "      <td>0.0</td>\n",
       "      <td>0.0</td>\n",
       "      <td>0.0</td>\n",
       "      <td>...</td>\n",
       "      <td>0.0</td>\n",
       "      <td>0.0</td>\n",
       "      <td>0.0</td>\n",
       "      <td>0.0</td>\n",
       "      <td>0.0</td>\n",
       "      <td>0.0</td>\n",
       "      <td>0.0</td>\n",
       "      <td>0.0</td>\n",
       "      <td>0.0</td>\n",
       "      <td>0.0</td>\n",
       "    </tr>\n",
       "    <tr>\n",
       "      <th>4</th>\n",
       "      <td>0.0</td>\n",
       "      <td>0.0</td>\n",
       "      <td>0.0</td>\n",
       "      <td>0.0</td>\n",
       "      <td>0.0</td>\n",
       "      <td>0.0</td>\n",
       "      <td>0.0</td>\n",
       "      <td>0.0</td>\n",
       "      <td>0.0</td>\n",
       "      <td>0.0</td>\n",
       "      <td>...</td>\n",
       "      <td>0.0</td>\n",
       "      <td>0.0</td>\n",
       "      <td>0.0</td>\n",
       "      <td>0.0</td>\n",
       "      <td>0.0</td>\n",
       "      <td>0.0</td>\n",
       "      <td>0.0</td>\n",
       "      <td>0.0</td>\n",
       "      <td>0.0</td>\n",
       "      <td>0.0</td>\n",
       "    </tr>\n",
       "  </tbody>\n",
       "</table>\n",
       "<p>5 rows × 7971 columns</p>\n",
       "</div>"
      ],
      "text/plain": [
       "   0     1     2     3     4     5     6     7     8     9     ...   7961  \\\n",
       "0   0.0   0.0   0.0   0.0   0.0   0.0   0.0   0.0   0.0   0.0  ...    0.0   \n",
       "1   0.0   0.0   0.0   0.0   0.0   0.0   0.0   0.0   0.0   0.0  ...    0.0   \n",
       "2   0.0   0.0   0.0   0.0   0.0   0.0   0.0   0.0   0.0   0.0  ...    0.0   \n",
       "3   0.0   0.0   0.0   0.0   0.0   0.0   0.0   0.0   0.0   0.0  ...    0.0   \n",
       "4   0.0   0.0   0.0   0.0   0.0   0.0   0.0   0.0   0.0   0.0  ...    0.0   \n",
       "\n",
       "   7962  7963  7964  7965  7966  7967  7968  7969  7970  \n",
       "0   0.0   0.0   0.0   0.0   0.0   0.0   0.0   0.0   0.0  \n",
       "1   0.0   0.0   0.0   0.0   0.0   0.0   0.0   0.0   0.0  \n",
       "2   0.0   0.0   0.0   0.0   0.0   0.0   0.0   0.0   0.0  \n",
       "3   0.0   0.0   0.0   0.0   0.0   0.0   0.0   0.0   0.0  \n",
       "4   0.0   0.0   0.0   0.0   0.0   0.0   0.0   0.0   0.0  \n",
       "\n",
       "[5 rows x 7971 columns]"
      ]
     },
     "execution_count": 85,
     "metadata": {},
     "output_type": "execute_result"
    }
   ],
   "source": [
    "X_train.head()"
   ]
  },
  {
   "cell_type": "markdown",
   "metadata": {},
   "source": [
    "Como podemos ver acima, temos como _features_ as componentes do vetor de cada amostra representado no espaço vetorial de _tokens_ de nossa _bag of words_."
   ]
  },
  {
   "cell_type": "markdown",
   "metadata": {},
   "source": [
    "Vamos transformar o _dataset_ de treinamento para o **mesmo espaço vetorial do treinamento**. Este detalhe é muito importante, pois precisamos comparar banana com banana, ou seja, precisamos comparar as amostras dentro do mesmo espaço vetorial."
   ]
  },
  {
   "cell_type": "code",
   "execution_count": 86,
   "metadata": {
    "collapsed": false
   },
   "outputs": [],
   "source": [
    "X_test = pd.DataFrame(tfidf.transform(X_test).toarray())"
   ]
  },
  {
   "cell_type": "code",
   "execution_count": 87,
   "metadata": {
    "collapsed": false
   },
   "outputs": [
    {
     "data": {
      "text/html": [
       "<div>\n",
       "<table border=\"1\" class=\"dataframe\">\n",
       "  <thead>\n",
       "    <tr style=\"text-align: right;\">\n",
       "      <th></th>\n",
       "      <th>0</th>\n",
       "      <th>1</th>\n",
       "      <th>2</th>\n",
       "      <th>3</th>\n",
       "      <th>4</th>\n",
       "      <th>5</th>\n",
       "      <th>6</th>\n",
       "      <th>7</th>\n",
       "      <th>8</th>\n",
       "      <th>9</th>\n",
       "      <th>...</th>\n",
       "      <th>7961</th>\n",
       "      <th>7962</th>\n",
       "      <th>7963</th>\n",
       "      <th>7964</th>\n",
       "      <th>7965</th>\n",
       "      <th>7966</th>\n",
       "      <th>7967</th>\n",
       "      <th>7968</th>\n",
       "      <th>7969</th>\n",
       "      <th>7970</th>\n",
       "    </tr>\n",
       "  </thead>\n",
       "  <tbody>\n",
       "    <tr>\n",
       "      <th>0</th>\n",
       "      <td>0.0</td>\n",
       "      <td>0.0</td>\n",
       "      <td>0.0</td>\n",
       "      <td>0.0</td>\n",
       "      <td>0.0</td>\n",
       "      <td>0.0</td>\n",
       "      <td>0.0</td>\n",
       "      <td>0.0</td>\n",
       "      <td>0.0</td>\n",
       "      <td>0.0</td>\n",
       "      <td>...</td>\n",
       "      <td>0.0</td>\n",
       "      <td>0.0</td>\n",
       "      <td>0.0</td>\n",
       "      <td>0.0</td>\n",
       "      <td>0.0</td>\n",
       "      <td>0.0</td>\n",
       "      <td>0.0</td>\n",
       "      <td>0.0</td>\n",
       "      <td>0.0</td>\n",
       "      <td>0.0</td>\n",
       "    </tr>\n",
       "    <tr>\n",
       "      <th>1</th>\n",
       "      <td>0.0</td>\n",
       "      <td>0.0</td>\n",
       "      <td>0.0</td>\n",
       "      <td>0.0</td>\n",
       "      <td>0.0</td>\n",
       "      <td>0.0</td>\n",
       "      <td>0.0</td>\n",
       "      <td>0.0</td>\n",
       "      <td>0.0</td>\n",
       "      <td>0.0</td>\n",
       "      <td>...</td>\n",
       "      <td>0.0</td>\n",
       "      <td>0.0</td>\n",
       "      <td>0.0</td>\n",
       "      <td>0.0</td>\n",
       "      <td>0.0</td>\n",
       "      <td>0.0</td>\n",
       "      <td>0.0</td>\n",
       "      <td>0.0</td>\n",
       "      <td>0.0</td>\n",
       "      <td>0.0</td>\n",
       "    </tr>\n",
       "    <tr>\n",
       "      <th>2</th>\n",
       "      <td>0.0</td>\n",
       "      <td>0.0</td>\n",
       "      <td>0.0</td>\n",
       "      <td>0.0</td>\n",
       "      <td>0.0</td>\n",
       "      <td>0.0</td>\n",
       "      <td>0.0</td>\n",
       "      <td>0.0</td>\n",
       "      <td>0.0</td>\n",
       "      <td>0.0</td>\n",
       "      <td>...</td>\n",
       "      <td>0.0</td>\n",
       "      <td>0.0</td>\n",
       "      <td>0.0</td>\n",
       "      <td>0.0</td>\n",
       "      <td>0.0</td>\n",
       "      <td>0.0</td>\n",
       "      <td>0.0</td>\n",
       "      <td>0.0</td>\n",
       "      <td>0.0</td>\n",
       "      <td>0.0</td>\n",
       "    </tr>\n",
       "    <tr>\n",
       "      <th>3</th>\n",
       "      <td>0.0</td>\n",
       "      <td>0.0</td>\n",
       "      <td>0.0</td>\n",
       "      <td>0.0</td>\n",
       "      <td>0.0</td>\n",
       "      <td>0.0</td>\n",
       "      <td>0.0</td>\n",
       "      <td>0.0</td>\n",
       "      <td>0.0</td>\n",
       "      <td>0.0</td>\n",
       "      <td>...</td>\n",
       "      <td>0.0</td>\n",
       "      <td>0.0</td>\n",
       "      <td>0.0</td>\n",
       "      <td>0.0</td>\n",
       "      <td>0.0</td>\n",
       "      <td>0.0</td>\n",
       "      <td>0.0</td>\n",
       "      <td>0.0</td>\n",
       "      <td>0.0</td>\n",
       "      <td>0.0</td>\n",
       "    </tr>\n",
       "    <tr>\n",
       "      <th>4</th>\n",
       "      <td>0.0</td>\n",
       "      <td>0.0</td>\n",
       "      <td>0.0</td>\n",
       "      <td>0.0</td>\n",
       "      <td>0.0</td>\n",
       "      <td>0.0</td>\n",
       "      <td>0.0</td>\n",
       "      <td>0.0</td>\n",
       "      <td>0.0</td>\n",
       "      <td>0.0</td>\n",
       "      <td>...</td>\n",
       "      <td>0.0</td>\n",
       "      <td>0.0</td>\n",
       "      <td>0.0</td>\n",
       "      <td>0.0</td>\n",
       "      <td>0.0</td>\n",
       "      <td>0.0</td>\n",
       "      <td>0.0</td>\n",
       "      <td>0.0</td>\n",
       "      <td>0.0</td>\n",
       "      <td>0.0</td>\n",
       "    </tr>\n",
       "  </tbody>\n",
       "</table>\n",
       "<p>5 rows × 7971 columns</p>\n",
       "</div>"
      ],
      "text/plain": [
       "   0     1     2     3     4     5     6     7     8     9     ...   7961  \\\n",
       "0   0.0   0.0   0.0   0.0   0.0   0.0   0.0   0.0   0.0   0.0  ...    0.0   \n",
       "1   0.0   0.0   0.0   0.0   0.0   0.0   0.0   0.0   0.0   0.0  ...    0.0   \n",
       "2   0.0   0.0   0.0   0.0   0.0   0.0   0.0   0.0   0.0   0.0  ...    0.0   \n",
       "3   0.0   0.0   0.0   0.0   0.0   0.0   0.0   0.0   0.0   0.0  ...    0.0   \n",
       "4   0.0   0.0   0.0   0.0   0.0   0.0   0.0   0.0   0.0   0.0  ...    0.0   \n",
       "\n",
       "   7962  7963  7964  7965  7966  7967  7968  7969  7970  \n",
       "0   0.0   0.0   0.0   0.0   0.0   0.0   0.0   0.0   0.0  \n",
       "1   0.0   0.0   0.0   0.0   0.0   0.0   0.0   0.0   0.0  \n",
       "2   0.0   0.0   0.0   0.0   0.0   0.0   0.0   0.0   0.0  \n",
       "3   0.0   0.0   0.0   0.0   0.0   0.0   0.0   0.0   0.0  \n",
       "4   0.0   0.0   0.0   0.0   0.0   0.0   0.0   0.0   0.0  \n",
       "\n",
       "[5 rows x 7971 columns]"
      ]
     },
     "execution_count": 87,
     "metadata": {},
     "output_type": "execute_result"
    }
   ],
   "source": [
    "X_test.head()"
   ]
  },
  {
   "cell_type": "code",
   "execution_count": 88,
   "metadata": {
    "collapsed": false
   },
   "outputs": [
    {
     "name": "stdout",
     "output_type": "stream",
     "text": [
      "7971 7971\n"
     ]
    }
   ],
   "source": [
    "print X_test.shape[1], X_train.shape[1]"
   ]
  },
  {
   "cell_type": "markdown",
   "metadata": {},
   "source": [
    "Ambos os conjuntos de dados tem o mesmo número de _features_."
   ]
  },
  {
   "cell_type": "markdown",
   "metadata": {},
   "source": [
    "### _Machine learning_\n",
    "\n",
    "Nesta etapa, aplicaremos alguns algoritmos de _Machine Learning_ sobre os dados de treino e avaliação acima visando a construção de um modelo que seja capaz de classificar o gênero de uma música a partir de sua letra.\n",
    "\n",
    "Para tal, serão utilizados dois algoritmos para classificação:\n",
    "- _Random Forest_;\n",
    "- _Logistic regression_;"
   ]
  },
  {
   "cell_type": "markdown",
   "metadata": {},
   "source": [
    "##### Random Forest"
   ]
  },
  {
   "cell_type": "code",
   "execution_count": 65,
   "metadata": {
    "collapsed": true
   },
   "outputs": [],
   "source": [
    "from sklearn.ensemble import RandomForestClassifier"
   ]
  },
  {
   "cell_type": "code",
   "execution_count": 66,
   "metadata": {
    "collapsed": true
   },
   "outputs": [],
   "source": [
    "clf = RandomForestClassifier(n_estimators=200)"
   ]
  },
  {
   "cell_type": "code",
   "execution_count": 67,
   "metadata": {
    "collapsed": false
   },
   "outputs": [],
   "source": [
    "clf = clf.fit(X_train, y_train)"
   ]
  },
  {
   "cell_type": "code",
   "execution_count": 69,
   "metadata": {
    "collapsed": false
   },
   "outputs": [],
   "source": [
    "from sklearn import metrics\n",
    "from sklearn.metrics import accuracy_score"
   ]
  },
  {
   "cell_type": "code",
   "execution_count": 70,
   "metadata": {
    "collapsed": false
   },
   "outputs": [],
   "source": [
    "y_pred = clf.predict(X_test)"
   ]
  },
  {
   "cell_type": "code",
   "execution_count": 71,
   "metadata": {
    "collapsed": false
   },
   "outputs": [
    {
     "data": {
      "text/plain": [
       "array([[160,  14,  21,  29],\n",
       "       [  4, 186,   6,  27],\n",
       "       [  2,   1, 209,  12],\n",
       "       [ 16,  16,  18, 190]])"
      ]
     },
     "execution_count": 71,
     "metadata": {},
     "output_type": "execute_result"
    }
   ],
   "source": [
    "metrics.confusion_matrix(y_test, y_pred)"
   ]
  },
  {
   "cell_type": "code",
   "execution_count": 72,
   "metadata": {
    "collapsed": false
   },
   "outputs": [
    {
     "name": "stdout",
     "output_type": "stream",
     "text": [
      "             precision    recall  f1-score   support\n",
      "\n",
      " bossa_nova       0.88      0.71      0.79       224\n",
      "       funk       0.86      0.83      0.85       223\n",
      "     gospel       0.82      0.93      0.87       224\n",
      "  sertanejo       0.74      0.79      0.76       240\n",
      "\n",
      "avg / total       0.82      0.82      0.82       911\n",
      "\n"
     ]
    }
   ],
   "source": [
    "print metrics.classification_report(y_test, y_pred)"
   ]
  },
  {
   "cell_type": "code",
   "execution_count": 73,
   "metadata": {
    "collapsed": false
   },
   "outputs": [
    {
     "data": {
      "text/plain": [
       "0.81778265642151482"
      ]
     },
     "execution_count": 73,
     "metadata": {},
     "output_type": "execute_result"
    }
   ],
   "source": [
    "accuracy_score(y_test, y_pred)"
   ]
  },
  {
   "cell_type": "markdown",
   "metadata": {},
   "source": [
    "##### Naive Bayes (Gaussian)"
   ]
  },
  {
   "cell_type": "code",
   "execution_count": 74,
   "metadata": {
    "collapsed": false
   },
   "outputs": [
    {
     "data": {
      "text/plain": [
       "GaussianNB()"
      ]
     },
     "execution_count": 74,
     "metadata": {},
     "output_type": "execute_result"
    }
   ],
   "source": [
    "from sklearn.naive_bayes import GaussianNB\n",
    "\n",
    "nb = GaussianNB()\n",
    "nb.fit(X_train, y_train)"
   ]
  },
  {
   "cell_type": "code",
   "execution_count": 75,
   "metadata": {
    "collapsed": false
   },
   "outputs": [],
   "source": [
    "y_nb_pred = nb.predict(X_test)"
   ]
  },
  {
   "cell_type": "code",
   "execution_count": 76,
   "metadata": {
    "collapsed": false
   },
   "outputs": [
    {
     "data": {
      "text/plain": [
       "array([[115,  33,  25,  51],\n",
       "       [  5, 194,   3,  21],\n",
       "       [  7,  13, 190,  14],\n",
       "       [ 15,  51,  43, 131]])"
      ]
     },
     "execution_count": 76,
     "metadata": {},
     "output_type": "execute_result"
    }
   ],
   "source": [
    "metrics.confusion_matrix(y_test, y_nb_pred)"
   ]
  },
  {
   "cell_type": "code",
   "execution_count": 77,
   "metadata": {
    "collapsed": false
   },
   "outputs": [
    {
     "name": "stdout",
     "output_type": "stream",
     "text": [
      "             precision    recall  f1-score   support\n",
      "\n",
      " bossa_nova       0.81      0.51      0.63       224\n",
      "       funk       0.67      0.87      0.75       223\n",
      "     gospel       0.73      0.85      0.78       224\n",
      "  sertanejo       0.60      0.55      0.57       240\n",
      "\n",
      "avg / total       0.70      0.69      0.68       911\n",
      "\n"
     ]
    }
   ],
   "source": [
    "print metrics.classification_report(y_test, y_nb_pred)"
   ]
  },
  {
   "cell_type": "code",
   "execution_count": 78,
   "metadata": {
    "collapsed": false
   },
   "outputs": [
    {
     "data": {
      "text/plain": [
       "0.69154774972557631"
      ]
     },
     "execution_count": 78,
     "metadata": {},
     "output_type": "execute_result"
    }
   ],
   "source": [
    "accuracy_score(y_test, y_nb_pred)"
   ]
  },
  {
   "cell_type": "markdown",
   "metadata": {},
   "source": [
    "##### SVM"
   ]
  },
  {
   "cell_type": "code",
   "execution_count": 80,
   "metadata": {
    "collapsed": false
   },
   "outputs": [],
   "source": [
    "from sklearn.svm import SVC"
   ]
  },
  {
   "cell_type": "code",
   "execution_count": 94,
   "metadata": {
    "collapsed": false
   },
   "outputs": [
    {
     "data": {
      "text/plain": [
       "SVC(C=1, cache_size=200, class_weight=None, coef0=0.0,\n",
       "  decision_function_shape=None, degree=3, gamma=2, kernel='rbf',\n",
       "  max_iter=-1, probability=False, random_state=None, shrinking=True,\n",
       "  tol=0.001, verbose=False)"
      ]
     },
     "execution_count": 94,
     "metadata": {},
     "output_type": "execute_result"
    }
   ],
   "source": [
    "svc = SVC(gamma=2, C=1)\n",
    "svc.fit(X_train, y_train)"
   ]
  },
  {
   "cell_type": "code",
   "execution_count": 95,
   "metadata": {
    "collapsed": true
   },
   "outputs": [],
   "source": [
    "y_svc_pred = svc.predict(X_test)"
   ]
  },
  {
   "cell_type": "code",
   "execution_count": 96,
   "metadata": {
    "collapsed": false
   },
   "outputs": [
    {
     "data": {
      "text/plain": [
       "array([[160,  22,   7,  35],\n",
       "       [  3, 189,   6,  25],\n",
       "       [  3,   2, 208,  11],\n",
       "       [ 14,  15,  16, 195]])"
      ]
     },
     "execution_count": 96,
     "metadata": {},
     "output_type": "execute_result"
    }
   ],
   "source": [
    "metrics.confusion_matrix(y_test, y_svc_pred)"
   ]
  },
  {
   "cell_type": "code",
   "execution_count": 97,
   "metadata": {
    "collapsed": false
   },
   "outputs": [
    {
     "name": "stdout",
     "output_type": "stream",
     "text": [
      "             precision    recall  f1-score   support\n",
      "\n",
      " bossa_nova       0.89      0.71      0.79       224\n",
      "       funk       0.83      0.85      0.84       223\n",
      "     gospel       0.88      0.93      0.90       224\n",
      "  sertanejo       0.73      0.81      0.77       240\n",
      "\n",
      "avg / total       0.83      0.83      0.82       911\n",
      "\n"
     ]
    }
   ],
   "source": [
    "print metrics.classification_report(y_test, y_svc_pred)"
   ]
  },
  {
   "cell_type": "code",
   "execution_count": 98,
   "metadata": {
    "collapsed": false
   },
   "outputs": [
    {
     "data": {
      "text/plain": [
       "0.82546652030735457"
      ]
     },
     "execution_count": 98,
     "metadata": {},
     "output_type": "execute_result"
    }
   ],
   "source": [
    "accuracy_score(y_test, y_svc_pred)"
   ]
  },
  {
   "cell_type": "markdown",
   "metadata": {},
   "source": [
    "##### Linear Regression"
   ]
  },
  {
   "cell_type": "code",
   "execution_count": 99,
   "metadata": {
    "collapsed": true
   },
   "outputs": [],
   "source": [
    "from sklearn.linear_model import LogisticRegression"
   ]
  },
  {
   "cell_type": "code",
   "execution_count": 162,
   "metadata": {
    "collapsed": false
   },
   "outputs": [
    {
     "data": {
      "text/plain": [
       "LogisticRegression(C=2, class_weight=None, dual=False, fit_intercept=False,\n",
       "          intercept_scaling=1, max_iter=5, multi_class='multinomial',\n",
       "          n_jobs=1, penalty='l2', random_state=42, solver='lbfgs',\n",
       "          tol=0.0001, verbose=0, warm_start=False)"
      ]
     },
     "execution_count": 162,
     "metadata": {},
     "output_type": "execute_result"
    }
   ],
   "source": [
    "lr = LogisticRegression(\n",
    "    solver='lbfgs',\n",
    "    multi_class=\"multinomial\",\n",
    "    C=2,\n",
    "    penalty='l2',\n",
    "    fit_intercept=False,\n",
    "    max_iter=5,\n",
    "    random_state=42,\n",
    ")\n",
    "lr.fit(X_train, y_train)"
   ]
  },
  {
   "cell_type": "code",
   "execution_count": 163,
   "metadata": {
    "collapsed": true
   },
   "outputs": [],
   "source": [
    "y_lr_pred = lr.predict(X_test)"
   ]
  },
  {
   "cell_type": "code",
   "execution_count": 164,
   "metadata": {
    "collapsed": false
   },
   "outputs": [
    {
     "data": {
      "text/plain": [
       "array([[182,   9,   8,  25],\n",
       "       [  6, 192,   5,  20],\n",
       "       [  3,   0, 212,   9],\n",
       "       [ 23,   9,  19, 189]])"
      ]
     },
     "execution_count": 164,
     "metadata": {},
     "output_type": "execute_result"
    }
   ],
   "source": [
    "metrics.confusion_matrix(y_test, y_lr_pred)"
   ]
  },
  {
   "cell_type": "code",
   "execution_count": 165,
   "metadata": {
    "collapsed": false
   },
   "outputs": [
    {
     "name": "stdout",
     "output_type": "stream",
     "text": [
      "             precision    recall  f1-score   support\n",
      "\n",
      " bossa_nova       0.85      0.81      0.83       224\n",
      "       funk       0.91      0.86      0.89       223\n",
      "     gospel       0.87      0.95      0.91       224\n",
      "  sertanejo       0.78      0.79      0.78       240\n",
      "\n",
      "avg / total       0.85      0.85      0.85       911\n",
      "\n"
     ]
    }
   ],
   "source": [
    "print metrics.classification_report(y_test, y_lr_pred)"
   ]
  },
  {
   "cell_type": "code",
   "execution_count": 166,
   "metadata": {
    "collapsed": false
   },
   "outputs": [
    {
     "data": {
      "text/plain": [
       "0.85071350164654225"
      ]
     },
     "execution_count": 166,
     "metadata": {},
     "output_type": "execute_result"
    }
   ],
   "source": [
    "accuracy_score(y_test, y_lr_pred)"
   ]
  },
  {
   "cell_type": "code",
   "execution_count": null,
   "metadata": {
    "collapsed": true
   },
   "outputs": [],
   "source": []
  },
  {
   "cell_type": "markdown",
   "metadata": {},
   "source": [
    "### Tunning"
   ]
  },
  {
   "cell_type": "code",
   "execution_count": 242,
   "metadata": {
    "collapsed": true
   },
   "outputs": [],
   "source": [
    "from sklearn.grid_search import GridSearchCV\n",
    "from scipy.stats import randint as sp_randint"
   ]
  },
  {
   "cell_type": "code",
   "execution_count": 285,
   "metadata": {
    "collapsed": false
   },
   "outputs": [],
   "source": [
    "param_grid = {\n",
    "    \"max_depth\": [3, 10, 20, 50],\n",
    "    \"min_samples_split\": [5, 20, 50],\n",
    "    \"min_samples_leaf\": [5, 10, 20],\n",
    "    \"bootstrap\": [True, False],\n",
    "    \"criterion\": [\"gini\", \"entropy\"],\n",
    "    \"n_estimators\": [50, 100, 200]\n",
    "}"
   ]
  },
  {
   "cell_type": "code",
   "execution_count": 286,
   "metadata": {
    "collapsed": false
   },
   "outputs": [],
   "source": [
    "seed_clf = RandomForestClassifier()"
   ]
  },
  {
   "cell_type": "code",
   "execution_count": 287,
   "metadata": {
    "collapsed": true
   },
   "outputs": [],
   "source": [
    "grid_search = GridSearchCV(seed_clf, param_grid=param_grid)"
   ]
  },
  {
   "cell_type": "code",
   "execution_count": 328,
   "metadata": {
    "collapsed": false,
    "scrolled": false
   },
   "outputs": [
    {
     "data": {
      "text/plain": [
       "GridSearchCV(cv=None, error_score='raise',\n",
       "       estimator=RandomForestClassifier(bootstrap=True, class_weight=None, criterion='gini',\n",
       "            max_depth=None, max_features='auto', max_leaf_nodes=None,\n",
       "            min_samples_leaf=1, min_samples_split=2,\n",
       "            min_weight_fraction_leaf=0.0, n_estimators=10, n_jobs=1,\n",
       "            oob_score=False, random_state=None, verbose=0,\n",
       "            warm_start=False),\n",
       "       fit_params={}, iid=True, n_jobs=1,\n",
       "       param_grid={'bootstrap': [True, False], 'min_samples_leaf': [5, 10, 20], 'n_estimators': [50, 100, 200], 'criterion': ['gini', 'entropy'], 'min_samples_split': [5, 20, 50], 'max_depth': [3, 10, 20, 50]},\n",
       "       pre_dispatch='2*n_jobs', refit=True, scoring=None, verbose=0)"
      ]
     },
     "execution_count": 328,
     "metadata": {},
     "output_type": "execute_result"
    }
   ],
   "source": [
    "grid_search.fit(X_train, y_train)"
   ]
  },
  {
   "cell_type": "code",
   "execution_count": 329,
   "metadata": {
    "collapsed": false
   },
   "outputs": [],
   "source": [
    "best_clf = grid_search.best_estimator_"
   ]
  },
  {
   "cell_type": "code",
   "execution_count": 330,
   "metadata": {
    "collapsed": false
   },
   "outputs": [
    {
     "data": {
      "text/plain": [
       "RandomForestClassifier(bootstrap=False, class_weight=None, criterion='gini',\n",
       "            max_depth=50, max_features='auto', max_leaf_nodes=None,\n",
       "            min_samples_leaf=5, min_samples_split=5,\n",
       "            min_weight_fraction_leaf=0.0, n_estimators=200, n_jobs=1,\n",
       "            oob_score=False, random_state=None, verbose=0,\n",
       "            warm_start=False)"
      ]
     },
     "execution_count": 330,
     "metadata": {},
     "output_type": "execute_result"
    }
   ],
   "source": [
    "best_clf"
   ]
  },
  {
   "cell_type": "code",
   "execution_count": 331,
   "metadata": {
    "collapsed": true
   },
   "outputs": [],
   "source": [
    "y_best_pred = best_clf.predict(X_test)"
   ]
  },
  {
   "cell_type": "code",
   "execution_count": 332,
   "metadata": {
    "collapsed": false
   },
   "outputs": [
    {
     "data": {
      "text/plain": [
       "array([[159,  15,  17,  32],\n",
       "       [  3, 179,   9,  35],\n",
       "       [  3,   0, 216,   9],\n",
       "       [ 16,   9,  20, 189]])"
      ]
     },
     "execution_count": 332,
     "metadata": {},
     "output_type": "execute_result"
    }
   ],
   "source": [
    "metrics.confusion_matrix(y_test, y_best_pred)"
   ]
  },
  {
   "cell_type": "code",
   "execution_count": 333,
   "metadata": {
    "collapsed": false
   },
   "outputs": [
    {
     "name": "stdout",
     "output_type": "stream",
     "text": [
      "             precision    recall  f1-score   support\n",
      "\n",
      " bossa_nova       0.88      0.71      0.79       223\n",
      "       funk       0.88      0.79      0.83       226\n",
      "     gospel       0.82      0.95      0.88       228\n",
      "  sertanejo       0.71      0.81      0.76       234\n",
      "\n",
      "avg / total       0.82      0.82      0.81       911\n",
      "\n"
     ]
    }
   ],
   "source": [
    "print metrics.classification_report(y_test, y_best_pred)"
   ]
  },
  {
   "cell_type": "code",
   "execution_count": 334,
   "metadata": {
    "collapsed": false
   },
   "outputs": [
    {
     "data": {
      "text/plain": [
       "0.81558726673984627"
      ]
     },
     "execution_count": 334,
     "metadata": {},
     "output_type": "execute_result"
    }
   ],
   "source": [
    "accuracy_score(y_test, y_best_pred)"
   ]
  },
  {
   "cell_type": "markdown",
   "metadata": {},
   "source": [
    "## Saving the model"
   ]
  },
  {
   "cell_type": "code",
   "execution_count": null,
   "metadata": {
    "collapsed": true
   },
   "outputs": [],
   "source": [
    "from sklearn.externals import joblib"
   ]
  },
  {
   "cell_type": "code",
   "execution_count": 290,
   "metadata": {
    "collapsed": true
   },
   "outputs": [],
   "source": [
    "import pickle"
   ]
  },
  {
   "cell_type": "code",
   "execution_count": 325,
   "metadata": {
    "collapsed": true
   },
   "outputs": [],
   "source": [
    "with open('../model/classifier.pkl', 'wb') as f:\n",
    "    pickle.dump(clf, f)"
   ]
  },
  {
   "cell_type": "code",
   "execution_count": 300,
   "metadata": {
    "collapsed": true
   },
   "outputs": [],
   "source": [
    "# with open('../model/vectorizer.pkl', 'wb') as f:\n",
    "#     pickle.dump(tfidf, f)"
   ]
  }
 ],
 "metadata": {
  "anaconda-cloud": {},
  "kernelspec": {
   "display_name": "Python 2",
   "language": "python",
   "name": "python2"
  },
  "language_info": {
   "codemirror_mode": {
    "name": "ipython",
    "version": 2
   },
   "file_extension": ".py",
   "mimetype": "text/x-python",
   "name": "python",
   "nbconvert_exporter": "python",
   "pygments_lexer": "ipython2",
   "version": "2.7.13"
  }
 },
 "nbformat": 4,
 "nbformat_minor": 1
}
